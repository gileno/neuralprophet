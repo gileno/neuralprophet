{
 "cells": [
  {
   "cell_type": "markdown",
   "id": "e2b22be1",
   "metadata": {
    "slideshow": {
     "slide_type": "slide"
    }
   },
   "source": [
    "# <center>Prevendo Series Temporais com NeuralProphet</center>\n",
    "## <center>Gileno Alves Santa Cruz Filho</center>"
   ]
  },
  {
   "cell_type": "markdown",
   "id": "73b88840",
   "metadata": {
    "slideshow": {
     "slide_type": "slide"
    }
   },
   "source": [
    "<center><img src='https://media.licdn.com/dms/image/C5603AQG0COwre01Org/profile-displayphoto-shrink_400_400/0/1652799269938?e=1694044800&v=beta&t=8QZ0POPHkOjc-MJhufp9VAK9wU2eaE2Dw7foH5g5CAQ' alt='Gileno Alves Santa Cruz Filho' /></center>\n",
    "<h2><center>Desenvolvedor Sênior / Cientista de Dados</center></h2>\n",
    "<h2><center>Stefanini / Colgate</center></h2>"
   ]
  },
  {
   "cell_type": "markdown",
   "id": "c05d28a2",
   "metadata": {
    "slideshow": {
     "slide_type": "slide"
    }
   },
   "source": [
    "<center>\n",
    "<img src=\"https://img.freepik.com/free-photo/top-view-office-desk-with-growth-chart-hands_23-2148780613.jpg?w=996&t=st=1688758217~exp=1688758817~hmac=3a1e35fda2d6dd734f584296d47da815372f202cc571103b7d1577bab5cf6b49\" />\n",
    "Fonte: <a href='https://www.freepik.com/free-photo/top-view-office-desk-with-growth-chart-hands_11383332.htm#query=forecast&position=1&from_view=search&track=sph'>https://www.freepik.com/free-photo/top-view-office-desk-with-growth-chart-hands_11383332.htm#query=forecast&position=1&from_view=search&track=sph</a>\n",
    "</center>"
   ]
  },
  {
   "cell_type": "markdown",
   "id": "25eb7abe",
   "metadata": {
    "slideshow": {
     "slide_type": "slide"
    }
   },
   "source": [
    "## Previsões (Forecasts)\n",
    "\n",
    "- Não são usadas apenas para prever o tempo (Alô APAC)\n",
    "- O tempo é o principal fator\n",
    "- Mas existem outros fatores (Multivariate Time Series)\n",
    "- Será que o futuro seguirá uma tendência?\n",
    "- Existe Sazonalidade?"
   ]
  },
  {
   "cell_type": "markdown",
   "id": "23d73883",
   "metadata": {
    "slideshow": {
     "slide_type": "slide"
    }
   },
   "source": [
    "# <center>Aplicações</center>"
   ]
  },
  {
   "cell_type": "markdown",
   "id": "16171304",
   "metadata": {
    "slideshow": {
     "slide_type": "slide"
    }
   },
   "source": [
    "<center>\n",
    "    <img src=\"https://img.freepik.com/free-vector/internet-business-income-earning-money-online-cartoon-character-working-with-laptop-programmer-freelancer-earning-investment-financial-success-concept-illustration_335657-2068.jpg?w=740&t=st=1688779525~exp=1688780125~hmac=fe830f705360ccf04fab56bef4ace8d5a65c2fd8afa7ba89ea39f881d23d388d\" />\n",
    "    Fonte: <a href=\"https://www.freepik.com/free-vector/internet-business-income-earning-money-online-cartoon-character-working-with-laptop-programmer-freelancer-earning-investment-financial-success-concept-illustration_11668503.htm#query=sales%20forecast&position=24&from_view=search&track=ais\">https://www.freepik.com/free-vector/internet-business-income-earning-money-online-cartoon-character-working-with-laptop-programmer-freelancer-earning-investment-financial-success-concept-illustration_11668503.htm#query=sales%20forecast&position=24&from_view=search&track=ais</a>\n",
    "</center>"
   ]
  },
  {
   "cell_type": "markdown",
   "id": "244602d4",
   "metadata": {
    "slideshow": {
     "slide_type": "slide"
    }
   },
   "source": [
    "<center>\n",
    "<img src=\"https://img.freepik.com/free-photo/closeup-golden-bitcoins-dark-reflective-surface-histogram-decreasing-crypto_1268-19910.jpg?w=996&t=st=1688779821~exp=1688780421~hmac=f5d6152048577dd329dd78ea19753d401b3a5eb76a8d3317cb2e73838a331cd5\" />\n",
    "    Fonte: <a href=\"https://www.freepik.com/free-photo/closeup-golden-bitcoins-dark-reflective-surface-histogram-decreasing-crypto_24366861.htm#query=criptomoedas&position=1&from_view=search&track=sph\">https://www.freepik.com/free-photo/closeup-golden-bitcoins-dark-reflective-surface-histogram-decreasing-crypto_24366861.htm#query=criptomoedas&position=1&from_view=search&track=sph</a>\n",
    "</center>"
   ]
  },
  {
   "cell_type": "markdown",
   "id": "b6890980",
   "metadata": {
    "slideshow": {
     "slide_type": "slide"
    }
   },
   "source": [
    "## Desafio na Colgate (Predição de Vendas Indiretas)\n",
    "\n",
    "- Multinacional (seu nome diz sobre si)\n",
    "- Diferentes canais de vendas indiretas (Distribuidores, atacado...)\n",
    "- O registro das vendas diárias tem grandes picos (ex: final do mês)\n",
    "- Parceiros podem mudar de \"patamar\" (quedas bruscas nas vendas)\n",
    "\n",
    "## Alguns Objetivos\n",
    "\n",
    "- Quanto cada canal irá vender nos próximos 3 meses?\n",
    "- Quanto cada parceiro irá vender nos próximos 3 meses?\n",
    "- Qual a previsão de venda da próxima semana?"
   ]
  },
  {
   "cell_type": "markdown",
   "id": "a30f8423",
   "metadata": {
    "slideshow": {
     "slide_type": "slide"
    }
   },
   "source": [
    "# NeuralProphet\n",
    "\n",
    "- Biblioteca inspirada em Prophet (Facebook) e AR-Net\n",
    "- Baseada em Redes Neurais\n",
    "- Boa usabilidade\n",
    "- Documentação em https://neuralprophet.com/contents.html"
   ]
  },
  {
   "cell_type": "markdown",
   "id": "f66a5742",
   "metadata": {
    "slideshow": {
     "slide_type": "slide"
    }
   },
   "source": [
    "# <center>Vamos codar</center>\n",
    "<center>\n",
    "    <img src=\"https://img.freepik.com/free-vector/hand-coding-concept-illustration_114360-8193.jpg?w=740&t=st=1688780674~exp=1688781274~hmac=d62fe211d30178ccc866b336255c26da291bd3f5b6a0ab22d21c07e93493f311\" />\n",
    "    Fonte: <a href=\"https://www.freepik.com/free-vector/hand-coding-concept-illustration_21864184.htm#query=code&position=18&from_view=search&track=sph\">https://www.freepik.com/free-vector/hand-coding-concept-illustration_21864184.htm#query=code&position=18&from_view=search&track=sph</a>\n",
    "</center>"
   ]
  },
  {
   "cell_type": "markdown",
   "id": "7065f0c3",
   "metadata": {
    "slideshow": {
     "slide_type": "slide"
    }
   },
   "source": [
    "# Carregando as libs"
   ]
  },
  {
   "cell_type": "code",
   "execution_count": 1,
   "id": "557ee277",
   "metadata": {
    "slideshow": {
     "slide_type": "subslide"
    }
   },
   "outputs": [
    {
     "name": "stderr",
     "output_type": "stream",
     "text": [
      "C:\\Users\\User\\AppData\\Local\\Programs\\Python\\Python310\\lib\\site-packages\\plotly_resampler\\aggregation\\aggregators.py:25: UserWarning: Could not import lttbc; will use a (slower) python alternative.\n",
      "  warnings.warn(\"Could not import lttbc; will use a (slower) python alternative.\")\n"
     ]
    }
   ],
   "source": [
    "import logging, sys\n",
    "logging.disable(sys.maxsize)\n",
    "\n",
    "import matplotlib.pyplot as plt\n",
    "%matplotlib inline\n",
    "\n",
    "import seaborn as sns\n",
    "\n",
    "import warnings\n",
    "import pandas as pd\n",
    "import datetime as dt\n",
    "\n",
    "from dateutil.relativedelta import relativedelta\n",
    "\n",
    "from neuralprophet import NeuralProphet, save\n",
    "\n",
    "pd.set_option('display.float_format', lambda x: '%.2f' % x)"
   ]
  },
  {
   "cell_type": "markdown",
   "id": "548c1dd1",
   "metadata": {
    "slideshow": {
     "slide_type": "slide"
    }
   },
   "source": [
    "# Store Sales - Time Series Forecasting \n",
    "\n",
    "- Kaggle: https://www.kaggle.com/competitions/store-sales-time-series-forecasting/overview\n",
    "\n",
    "# Conjuntos\n",
    "\n",
    "- Dados de treinamento (train.csv)\n",
    "- Dados de teste (test.csv)\n",
    "- Dados das lojas (stores.csv)\n",
    "- Dados do preço diário do Petróleo (oil.csv)\n",
    "- Dados de Feriados (holidays_events.csv)\n",
    "- Dados de transações da Loja (transactions.csv)"
   ]
  },
  {
   "cell_type": "code",
   "execution_count": 2,
   "id": "837d4353",
   "metadata": {
    "slideshow": {
     "slide_type": "subslide"
    }
   },
   "outputs": [
    {
     "data": {
      "text/html": [
       "<div>\n",
       "<style scoped>\n",
       "    .dataframe tbody tr th:only-of-type {\n",
       "        vertical-align: middle;\n",
       "    }\n",
       "\n",
       "    .dataframe tbody tr th {\n",
       "        vertical-align: top;\n",
       "    }\n",
       "\n",
       "    .dataframe thead th {\n",
       "        text-align: right;\n",
       "    }\n",
       "</style>\n",
       "<table border=\"1\" class=\"dataframe\">\n",
       "  <thead>\n",
       "    <tr style=\"text-align: right;\">\n",
       "      <th></th>\n",
       "      <th>id</th>\n",
       "      <th>date</th>\n",
       "      <th>store_nbr</th>\n",
       "      <th>family</th>\n",
       "      <th>sales</th>\n",
       "      <th>onpromotion</th>\n",
       "    </tr>\n",
       "  </thead>\n",
       "  <tbody>\n",
       "    <tr>\n",
       "      <th>0</th>\n",
       "      <td>0</td>\n",
       "      <td>2013-01-01</td>\n",
       "      <td>1</td>\n",
       "      <td>AUTOMOTIVE</td>\n",
       "      <td>0.00</td>\n",
       "      <td>0</td>\n",
       "    </tr>\n",
       "    <tr>\n",
       "      <th>1</th>\n",
       "      <td>1</td>\n",
       "      <td>2013-01-01</td>\n",
       "      <td>1</td>\n",
       "      <td>BABY CARE</td>\n",
       "      <td>0.00</td>\n",
       "      <td>0</td>\n",
       "    </tr>\n",
       "    <tr>\n",
       "      <th>2</th>\n",
       "      <td>2</td>\n",
       "      <td>2013-01-01</td>\n",
       "      <td>1</td>\n",
       "      <td>BEAUTY</td>\n",
       "      <td>0.00</td>\n",
       "      <td>0</td>\n",
       "    </tr>\n",
       "    <tr>\n",
       "      <th>3</th>\n",
       "      <td>3</td>\n",
       "      <td>2013-01-01</td>\n",
       "      <td>1</td>\n",
       "      <td>BEVERAGES</td>\n",
       "      <td>0.00</td>\n",
       "      <td>0</td>\n",
       "    </tr>\n",
       "    <tr>\n",
       "      <th>4</th>\n",
       "      <td>4</td>\n",
       "      <td>2013-01-01</td>\n",
       "      <td>1</td>\n",
       "      <td>BOOKS</td>\n",
       "      <td>0.00</td>\n",
       "      <td>0</td>\n",
       "    </tr>\n",
       "  </tbody>\n",
       "</table>\n",
       "</div>"
      ],
      "text/plain": [
       "   id        date  store_nbr      family  sales  onpromotion\n",
       "0   0  2013-01-01          1  AUTOMOTIVE   0.00            0\n",
       "1   1  2013-01-01          1   BABY CARE   0.00            0\n",
       "2   2  2013-01-01          1      BEAUTY   0.00            0\n",
       "3   3  2013-01-01          1   BEVERAGES   0.00            0\n",
       "4   4  2013-01-01          1       BOOKS   0.00            0"
      ]
     },
     "execution_count": 2,
     "metadata": {},
     "output_type": "execute_result"
    }
   ],
   "source": [
    "# Treino\n",
    "df_train = pd.read_csv('data/train.csv')\n",
    "df_train.head()"
   ]
  },
  {
   "cell_type": "code",
   "execution_count": 3,
   "id": "446aa522",
   "metadata": {
    "slideshow": {
     "slide_type": "subslide"
    }
   },
   "outputs": [
    {
     "data": {
      "text/html": [
       "<div>\n",
       "<style scoped>\n",
       "    .dataframe tbody tr th:only-of-type {\n",
       "        vertical-align: middle;\n",
       "    }\n",
       "\n",
       "    .dataframe tbody tr th {\n",
       "        vertical-align: top;\n",
       "    }\n",
       "\n",
       "    .dataframe thead th {\n",
       "        text-align: right;\n",
       "    }\n",
       "</style>\n",
       "<table border=\"1\" class=\"dataframe\">\n",
       "  <thead>\n",
       "    <tr style=\"text-align: right;\">\n",
       "      <th></th>\n",
       "      <th>id</th>\n",
       "      <th>date</th>\n",
       "      <th>store_nbr</th>\n",
       "      <th>family</th>\n",
       "      <th>onpromotion</th>\n",
       "    </tr>\n",
       "  </thead>\n",
       "  <tbody>\n",
       "    <tr>\n",
       "      <th>0</th>\n",
       "      <td>3000888</td>\n",
       "      <td>2017-08-16</td>\n",
       "      <td>1</td>\n",
       "      <td>AUTOMOTIVE</td>\n",
       "      <td>0</td>\n",
       "    </tr>\n",
       "    <tr>\n",
       "      <th>1</th>\n",
       "      <td>3000889</td>\n",
       "      <td>2017-08-16</td>\n",
       "      <td>1</td>\n",
       "      <td>BABY CARE</td>\n",
       "      <td>0</td>\n",
       "    </tr>\n",
       "    <tr>\n",
       "      <th>2</th>\n",
       "      <td>3000890</td>\n",
       "      <td>2017-08-16</td>\n",
       "      <td>1</td>\n",
       "      <td>BEAUTY</td>\n",
       "      <td>2</td>\n",
       "    </tr>\n",
       "    <tr>\n",
       "      <th>3</th>\n",
       "      <td>3000891</td>\n",
       "      <td>2017-08-16</td>\n",
       "      <td>1</td>\n",
       "      <td>BEVERAGES</td>\n",
       "      <td>20</td>\n",
       "    </tr>\n",
       "    <tr>\n",
       "      <th>4</th>\n",
       "      <td>3000892</td>\n",
       "      <td>2017-08-16</td>\n",
       "      <td>1</td>\n",
       "      <td>BOOKS</td>\n",
       "      <td>0</td>\n",
       "    </tr>\n",
       "  </tbody>\n",
       "</table>\n",
       "</div>"
      ],
      "text/plain": [
       "        id        date  store_nbr      family  onpromotion\n",
       "0  3000888  2017-08-16          1  AUTOMOTIVE            0\n",
       "1  3000889  2017-08-16          1   BABY CARE            0\n",
       "2  3000890  2017-08-16          1      BEAUTY            2\n",
       "3  3000891  2017-08-16          1   BEVERAGES           20\n",
       "4  3000892  2017-08-16          1       BOOKS            0"
      ]
     },
     "execution_count": 3,
     "metadata": {},
     "output_type": "execute_result"
    }
   ],
   "source": [
    "# Teste\n",
    "df_test = pd.read_csv('data/test.csv')\n",
    "df_test.head()"
   ]
  },
  {
   "cell_type": "code",
   "execution_count": 4,
   "id": "45f657f8",
   "metadata": {
    "slideshow": {
     "slide_type": "subslide"
    }
   },
   "outputs": [
    {
     "data": {
      "text/html": [
       "<div>\n",
       "<style scoped>\n",
       "    .dataframe tbody tr th:only-of-type {\n",
       "        vertical-align: middle;\n",
       "    }\n",
       "\n",
       "    .dataframe tbody tr th {\n",
       "        vertical-align: top;\n",
       "    }\n",
       "\n",
       "    .dataframe thead th {\n",
       "        text-align: right;\n",
       "    }\n",
       "</style>\n",
       "<table border=\"1\" class=\"dataframe\">\n",
       "  <thead>\n",
       "    <tr style=\"text-align: right;\">\n",
       "      <th></th>\n",
       "      <th>date</th>\n",
       "      <th>type</th>\n",
       "      <th>locale</th>\n",
       "      <th>locale_name</th>\n",
       "      <th>description</th>\n",
       "      <th>transferred</th>\n",
       "    </tr>\n",
       "  </thead>\n",
       "  <tbody>\n",
       "    <tr>\n",
       "      <th>0</th>\n",
       "      <td>2012-03-02</td>\n",
       "      <td>Holiday</td>\n",
       "      <td>Local</td>\n",
       "      <td>Manta</td>\n",
       "      <td>Fundacion de Manta</td>\n",
       "      <td>False</td>\n",
       "    </tr>\n",
       "    <tr>\n",
       "      <th>1</th>\n",
       "      <td>2012-04-01</td>\n",
       "      <td>Holiday</td>\n",
       "      <td>Regional</td>\n",
       "      <td>Cotopaxi</td>\n",
       "      <td>Provincializacion de Cotopaxi</td>\n",
       "      <td>False</td>\n",
       "    </tr>\n",
       "    <tr>\n",
       "      <th>2</th>\n",
       "      <td>2012-04-12</td>\n",
       "      <td>Holiday</td>\n",
       "      <td>Local</td>\n",
       "      <td>Cuenca</td>\n",
       "      <td>Fundacion de Cuenca</td>\n",
       "      <td>False</td>\n",
       "    </tr>\n",
       "    <tr>\n",
       "      <th>3</th>\n",
       "      <td>2012-04-14</td>\n",
       "      <td>Holiday</td>\n",
       "      <td>Local</td>\n",
       "      <td>Libertad</td>\n",
       "      <td>Cantonizacion de Libertad</td>\n",
       "      <td>False</td>\n",
       "    </tr>\n",
       "    <tr>\n",
       "      <th>4</th>\n",
       "      <td>2012-04-21</td>\n",
       "      <td>Holiday</td>\n",
       "      <td>Local</td>\n",
       "      <td>Riobamba</td>\n",
       "      <td>Cantonizacion de Riobamba</td>\n",
       "      <td>False</td>\n",
       "    </tr>\n",
       "  </tbody>\n",
       "</table>\n",
       "</div>"
      ],
      "text/plain": [
       "         date     type    locale locale_name                    description  \\\n",
       "0  2012-03-02  Holiday     Local       Manta             Fundacion de Manta   \n",
       "1  2012-04-01  Holiday  Regional    Cotopaxi  Provincializacion de Cotopaxi   \n",
       "2  2012-04-12  Holiday     Local      Cuenca            Fundacion de Cuenca   \n",
       "3  2012-04-14  Holiday     Local    Libertad      Cantonizacion de Libertad   \n",
       "4  2012-04-21  Holiday     Local    Riobamba      Cantonizacion de Riobamba   \n",
       "\n",
       "   transferred  \n",
       "0        False  \n",
       "1        False  \n",
       "2        False  \n",
       "3        False  \n",
       "4        False  "
      ]
     },
     "execution_count": 4,
     "metadata": {},
     "output_type": "execute_result"
    }
   ],
   "source": [
    "# Feriados\n",
    "df_holidays = pd.read_csv('data/holidays_events.csv')\n",
    "df_holidays.head()"
   ]
  },
  {
   "cell_type": "code",
   "execution_count": 5,
   "id": "6db7dece",
   "metadata": {
    "slideshow": {
     "slide_type": "subslide"
    }
   },
   "outputs": [
    {
     "data": {
      "text/html": [
       "<div>\n",
       "<style scoped>\n",
       "    .dataframe tbody tr th:only-of-type {\n",
       "        vertical-align: middle;\n",
       "    }\n",
       "\n",
       "    .dataframe tbody tr th {\n",
       "        vertical-align: top;\n",
       "    }\n",
       "\n",
       "    .dataframe thead th {\n",
       "        text-align: right;\n",
       "    }\n",
       "</style>\n",
       "<table border=\"1\" class=\"dataframe\">\n",
       "  <thead>\n",
       "    <tr style=\"text-align: right;\">\n",
       "      <th></th>\n",
       "      <th>store_nbr</th>\n",
       "      <th>city</th>\n",
       "      <th>state</th>\n",
       "      <th>type</th>\n",
       "      <th>cluster</th>\n",
       "    </tr>\n",
       "  </thead>\n",
       "  <tbody>\n",
       "    <tr>\n",
       "      <th>0</th>\n",
       "      <td>1</td>\n",
       "      <td>Quito</td>\n",
       "      <td>Pichincha</td>\n",
       "      <td>D</td>\n",
       "      <td>13</td>\n",
       "    </tr>\n",
       "    <tr>\n",
       "      <th>1</th>\n",
       "      <td>2</td>\n",
       "      <td>Quito</td>\n",
       "      <td>Pichincha</td>\n",
       "      <td>D</td>\n",
       "      <td>13</td>\n",
       "    </tr>\n",
       "    <tr>\n",
       "      <th>2</th>\n",
       "      <td>3</td>\n",
       "      <td>Quito</td>\n",
       "      <td>Pichincha</td>\n",
       "      <td>D</td>\n",
       "      <td>8</td>\n",
       "    </tr>\n",
       "    <tr>\n",
       "      <th>3</th>\n",
       "      <td>4</td>\n",
       "      <td>Quito</td>\n",
       "      <td>Pichincha</td>\n",
       "      <td>D</td>\n",
       "      <td>9</td>\n",
       "    </tr>\n",
       "    <tr>\n",
       "      <th>4</th>\n",
       "      <td>5</td>\n",
       "      <td>Santo Domingo</td>\n",
       "      <td>Santo Domingo de los Tsachilas</td>\n",
       "      <td>D</td>\n",
       "      <td>4</td>\n",
       "    </tr>\n",
       "  </tbody>\n",
       "</table>\n",
       "</div>"
      ],
      "text/plain": [
       "   store_nbr           city                           state type  cluster\n",
       "0          1          Quito                       Pichincha    D       13\n",
       "1          2          Quito                       Pichincha    D       13\n",
       "2          3          Quito                       Pichincha    D        8\n",
       "3          4          Quito                       Pichincha    D        9\n",
       "4          5  Santo Domingo  Santo Domingo de los Tsachilas    D        4"
      ]
     },
     "execution_count": 5,
     "metadata": {},
     "output_type": "execute_result"
    }
   ],
   "source": [
    "# Lojas\n",
    "df_stores = pd.read_csv('data/stores.csv')\n",
    "df_stores.head()"
   ]
  },
  {
   "cell_type": "markdown",
   "id": "f1e1d707",
   "metadata": {
    "slideshow": {
     "slide_type": "slide"
    }
   },
   "source": [
    "# Explorando o treinamento\n",
    "\n",
    "- Por hora não vamos explorar o conjunto `oil` nem o `transactions`"
   ]
  },
  {
   "cell_type": "code",
   "execution_count": 6,
   "id": "175decb7",
   "metadata": {
    "slideshow": {
     "slide_type": "subslide"
    }
   },
   "outputs": [
    {
     "name": "stdout",
     "output_type": "stream",
     "text": [
      "Início: 2013-01-01 00:00:00\n",
      "Término: 2017-08-15 00:00:00\n"
     ]
    }
   ],
   "source": [
    "# dados de treino\n",
    "df_train['date'] = pd.to_datetime(df_train['date'], format='%Y-%m-%d')\n",
    "print(\"Início:\", df_train['date'].min())\n",
    "print(\"Término:\", df_train['date'].max())"
   ]
  },
  {
   "cell_type": "code",
   "execution_count": 7,
   "id": "0a0bbd15",
   "metadata": {
    "slideshow": {
     "slide_type": "subslide"
    }
   },
   "outputs": [
    {
     "data": {
      "image/png": "[encoded data removed]",
      "text/plain": [
       "<Figure size 1440x576 with 1 Axes>"
      ]
     },
     "metadata": {
      "needs_background": "light"
     },
     "output_type": "display_data"
    }
   ],
   "source": [
    "fig, axes = plt.subplots(nrows=1, ncols=1, figsize=(20,8))\n",
    "df_train.plot.line(x='date', y='sales', ax=axes)\n",
    "plt.title('Dados de treinamento (completo)')\n",
    "plt.show()"
   ]
  },
  {
   "cell_type": "markdown",
   "id": "7230c4b7",
   "metadata": {
    "slideshow": {
     "slide_type": "subslide"
    }
   },
   "source": [
    "# Cuidado com a escala"
   ]
  },
  {
   "cell_type": "code",
   "execution_count": 8,
   "id": "c0dd734f",
   "metadata": {
    "slideshow": {
     "slide_type": "subslide"
    }
   },
   "outputs": [
    {
     "data": {
      "image/png": "[encoded data removed]",
      "text/plain": [
       "<Figure size 1440x576 with 1 Axes>"
      ]
     },
     "metadata": {
      "needs_background": "light"
     },
     "output_type": "display_data"
    }
   ],
   "source": [
    "# para ver a chaves de agrupamento checar o pd.date_range\n",
    "fig, axes = plt.subplots(nrows=1, ncols=1, figsize=(20,8))\n",
    "df_train_grouped = df_train.groupby([pd.Grouper(key='date', freq='M')]).agg(mean=('sales', 'mean'))\n",
    "df_train_grouped = df_train_grouped.reset_index()\n",
    "sns.lineplot(x=df_train_grouped['date'], y=df_train_grouped['mean'], ax=axes)\n",
    "plt.title('Média Mensal da Vendas')\n",
    "plt.show()"
   ]
  },
  {
   "cell_type": "markdown",
   "id": "0f8e9d3b",
   "metadata": {
    "slideshow": {
     "slide_type": "slide"
    }
   },
   "source": [
    "# Vamos trabalhar apenas com uma loja"
   ]
  },
  {
   "cell_type": "code",
   "execution_count": 9,
   "id": "932175df",
   "metadata": {
    "slideshow": {
     "slide_type": "subslide"
    }
   },
   "outputs": [
    {
     "data": {
      "text/html": [
       "<div>\n",
       "<style scoped>\n",
       "    .dataframe tbody tr th:only-of-type {\n",
       "        vertical-align: middle;\n",
       "    }\n",
       "\n",
       "    .dataframe tbody tr th {\n",
       "        vertical-align: top;\n",
       "    }\n",
       "\n",
       "    .dataframe thead th {\n",
       "        text-align: right;\n",
       "    }\n",
       "</style>\n",
       "<table border=\"1\" class=\"dataframe\">\n",
       "  <thead>\n",
       "    <tr style=\"text-align: right;\">\n",
       "      <th></th>\n",
       "      <th>id</th>\n",
       "      <th>date</th>\n",
       "      <th>store_nbr</th>\n",
       "      <th>family</th>\n",
       "      <th>sales</th>\n",
       "      <th>onpromotion</th>\n",
       "    </tr>\n",
       "  </thead>\n",
       "  <tbody>\n",
       "    <tr>\n",
       "      <th>0</th>\n",
       "      <td>0</td>\n",
       "      <td>2013-01-01</td>\n",
       "      <td>1</td>\n",
       "      <td>AUTOMOTIVE</td>\n",
       "      <td>0.00</td>\n",
       "      <td>0</td>\n",
       "    </tr>\n",
       "    <tr>\n",
       "      <th>1</th>\n",
       "      <td>1</td>\n",
       "      <td>2013-01-01</td>\n",
       "      <td>1</td>\n",
       "      <td>BABY CARE</td>\n",
       "      <td>0.00</td>\n",
       "      <td>0</td>\n",
       "    </tr>\n",
       "    <tr>\n",
       "      <th>2</th>\n",
       "      <td>2</td>\n",
       "      <td>2013-01-01</td>\n",
       "      <td>1</td>\n",
       "      <td>BEAUTY</td>\n",
       "      <td>0.00</td>\n",
       "      <td>0</td>\n",
       "    </tr>\n",
       "    <tr>\n",
       "      <th>3</th>\n",
       "      <td>3</td>\n",
       "      <td>2013-01-01</td>\n",
       "      <td>1</td>\n",
       "      <td>BEVERAGES</td>\n",
       "      <td>0.00</td>\n",
       "      <td>0</td>\n",
       "    </tr>\n",
       "    <tr>\n",
       "      <th>4</th>\n",
       "      <td>4</td>\n",
       "      <td>2013-01-01</td>\n",
       "      <td>1</td>\n",
       "      <td>BOOKS</td>\n",
       "      <td>0.00</td>\n",
       "      <td>0</td>\n",
       "    </tr>\n",
       "  </tbody>\n",
       "</table>\n",
       "</div>"
      ],
      "text/plain": [
       "   id       date  store_nbr      family  sales  onpromotion\n",
       "0   0 2013-01-01          1  AUTOMOTIVE   0.00            0\n",
       "1   1 2013-01-01          1   BABY CARE   0.00            0\n",
       "2   2 2013-01-01          1      BEAUTY   0.00            0\n",
       "3   3 2013-01-01          1   BEVERAGES   0.00            0\n",
       "4   4 2013-01-01          1       BOOKS   0.00            0"
      ]
     },
     "execution_count": 9,
     "metadata": {},
     "output_type": "execute_result"
    }
   ],
   "source": [
    "df_train_store = df_train[df_train['store_nbr'] == 1]\n",
    "df_train_store['date'] = pd.to_datetime(df_train_store['date'], format='%Y-%m-%d')\n",
    "df_train_store.head()"
   ]
  },
  {
   "cell_type": "markdown",
   "id": "73ea1f31",
   "metadata": {
    "slideshow": {
     "slide_type": "slide"
    }
   },
   "source": [
    "# Gerar um modelo básico para separar os dados"
   ]
  },
  {
   "cell_type": "code",
   "execution_count": 10,
   "id": "24b52511",
   "metadata": {
    "slideshow": {
     "slide_type": "subslide"
    }
   },
   "outputs": [],
   "source": [
    "model = NeuralProphet(\n",
    "    yearly_seasonality=True,\n",
    "    daily_seasonality=True,\n",
    "    weekly_seasonality=True,\n",
    "    ar_layers=[16, 16, 16, 16],\n",
    "    learning_rate=0.01,\n",
    "    loss_func='MAE',\n",
    ")"
   ]
  },
  {
   "cell_type": "code",
   "execution_count": 11,
   "id": "22a99775",
   "metadata": {
    "slideshow": {
     "slide_type": "subslide"
    }
   },
   "outputs": [
    {
     "name": "stdout",
     "output_type": "stream",
     "text": [
      "Total dados: 1684\n",
      "Total treino: 1348\n",
      "Total validação: 336\n"
     ]
    }
   ],
   "source": [
    "df_model = df_train_store[['date', 'sales']]\n",
    "df_model.columns = ['ds', 'y']\n",
    "df_model = df_model.groupby('ds').sum().reset_index()\n",
    "df_train, df_val = model.split_df(df_model, valid_p=0.2)\n",
    "print(\"Total dados:\", len(df_model))\n",
    "print(\"Total treino:\", len(df_train))\n",
    "print(\"Total validação:\", len(df_val))"
   ]
  },
  {
   "cell_type": "markdown",
   "id": "db98cad1",
   "metadata": {
    "slideshow": {
     "slide_type": "slide"
    }
   },
   "source": [
    "# Feriados / Eventos"
   ]
  },
  {
   "cell_type": "code",
   "execution_count": 12,
   "id": "c9bccfdf",
   "metadata": {
    "slideshow": {
     "slide_type": "subslide"
    }
   },
   "outputs": [
    {
     "data": {
      "text/plain": [
       "'Quito'"
      ]
     },
     "execution_count": 12,
     "metadata": {},
     "output_type": "execute_result"
    }
   ],
   "source": [
    "store_name = df_stores[df_stores['store_nbr'] == 1].iloc[0]['city']\n",
    "store_name"
   ]
  },
  {
   "cell_type": "code",
   "execution_count": 13,
   "id": "f60204db",
   "metadata": {
    "slideshow": {
     "slide_type": "subslide"
    }
   },
   "outputs": [
    {
     "data": {
      "text/html": [
       "<div>\n",
       "<style scoped>\n",
       "    .dataframe tbody tr th:only-of-type {\n",
       "        vertical-align: middle;\n",
       "    }\n",
       "\n",
       "    .dataframe tbody tr th {\n",
       "        vertical-align: top;\n",
       "    }\n",
       "\n",
       "    .dataframe thead th {\n",
       "        text-align: right;\n",
       "    }\n",
       "</style>\n",
       "<table border=\"1\" class=\"dataframe\">\n",
       "  <thead>\n",
       "    <tr style=\"text-align: right;\">\n",
       "      <th></th>\n",
       "      <th>date</th>\n",
       "      <th>type</th>\n",
       "      <th>locale</th>\n",
       "      <th>locale_name</th>\n",
       "      <th>description</th>\n",
       "      <th>transferred</th>\n",
       "    </tr>\n",
       "  </thead>\n",
       "  <tbody>\n",
       "    <tr>\n",
       "      <th>28</th>\n",
       "      <td>2012-12-05</td>\n",
       "      <td>Additional</td>\n",
       "      <td>Local</td>\n",
       "      <td>Quito</td>\n",
       "      <td>Fundacion de Quito-1</td>\n",
       "      <td>False</td>\n",
       "    </tr>\n",
       "    <tr>\n",
       "      <th>29</th>\n",
       "      <td>2012-12-06</td>\n",
       "      <td>Holiday</td>\n",
       "      <td>Local</td>\n",
       "      <td>Quito</td>\n",
       "      <td>Fundacion de Quito</td>\n",
       "      <td>False</td>\n",
       "    </tr>\n",
       "    <tr>\n",
       "      <th>81</th>\n",
       "      <td>2013-12-05</td>\n",
       "      <td>Additional</td>\n",
       "      <td>Local</td>\n",
       "      <td>Quito</td>\n",
       "      <td>Fundacion de Quito-1</td>\n",
       "      <td>False</td>\n",
       "    </tr>\n",
       "    <tr>\n",
       "      <th>82</th>\n",
       "      <td>2013-12-06</td>\n",
       "      <td>Holiday</td>\n",
       "      <td>Local</td>\n",
       "      <td>Quito</td>\n",
       "      <td>Fundacion de Quito</td>\n",
       "      <td>False</td>\n",
       "    </tr>\n",
       "    <tr>\n",
       "      <th>146</th>\n",
       "      <td>2014-12-05</td>\n",
       "      <td>Additional</td>\n",
       "      <td>Local</td>\n",
       "      <td>Quito</td>\n",
       "      <td>Fundacion de Quito-1</td>\n",
       "      <td>False</td>\n",
       "    </tr>\n",
       "  </tbody>\n",
       "</table>\n",
       "</div>"
      ],
      "text/plain": [
       "          date        type locale locale_name           description  \\\n",
       "28  2012-12-05  Additional  Local       Quito  Fundacion de Quito-1   \n",
       "29  2012-12-06     Holiday  Local       Quito    Fundacion de Quito   \n",
       "81  2013-12-05  Additional  Local       Quito  Fundacion de Quito-1   \n",
       "82  2013-12-06     Holiday  Local       Quito    Fundacion de Quito   \n",
       "146 2014-12-05  Additional  Local       Quito  Fundacion de Quito-1   \n",
       "\n",
       "     transferred  \n",
       "28         False  \n",
       "29         False  \n",
       "81         False  \n",
       "82         False  \n",
       "146        False  "
      ]
     },
     "execution_count": 13,
     "metadata": {},
     "output_type": "execute_result"
    }
   ],
   "source": [
    "df_holidays['date'] = pd.to_datetime(df_holidays['date'], format='%Y-%m-%d')\n",
    "df_holidays_store = df_holidays[\n",
    "    (df_holidays['locale_name'] == store_name) & (df_holidays['transferred'] == False)\n",
    "]\n",
    "df_holidays_store.head()"
   ]
  },
  {
   "cell_type": "markdown",
   "id": "c6d37360",
   "metadata": {
    "slideshow": {
     "slide_type": "slide"
    }
   },
   "source": [
    "# Vamos gerar os eventos"
   ]
  },
  {
   "cell_type": "code",
   "execution_count": 14,
   "id": "5cf0c65d",
   "metadata": {
    "slideshow": {
     "slide_type": "subslide"
    }
   },
   "outputs": [
    {
     "data": {
      "text/html": [
       "<div>\n",
       "<style scoped>\n",
       "    .dataframe tbody tr th:only-of-type {\n",
       "        vertical-align: middle;\n",
       "    }\n",
       "\n",
       "    .dataframe tbody tr th {\n",
       "        vertical-align: top;\n",
       "    }\n",
       "\n",
       "    .dataframe thead th {\n",
       "        text-align: right;\n",
       "    }\n",
       "</style>\n",
       "<table border=\"1\" class=\"dataframe\">\n",
       "  <thead>\n",
       "    <tr style=\"text-align: right;\">\n",
       "      <th></th>\n",
       "      <th>event</th>\n",
       "      <th>ds</th>\n",
       "    </tr>\n",
       "  </thead>\n",
       "  <tbody>\n",
       "    <tr>\n",
       "      <th>0</th>\n",
       "      <td>city_holidays</td>\n",
       "      <td>2012-03-02</td>\n",
       "    </tr>\n",
       "    <tr>\n",
       "      <th>1</th>\n",
       "      <td>city_holidays</td>\n",
       "      <td>2012-04-01</td>\n",
       "    </tr>\n",
       "    <tr>\n",
       "      <th>2</th>\n",
       "      <td>city_holidays</td>\n",
       "      <td>2012-04-12</td>\n",
       "    </tr>\n",
       "    <tr>\n",
       "      <th>3</th>\n",
       "      <td>city_holidays</td>\n",
       "      <td>2012-04-14</td>\n",
       "    </tr>\n",
       "    <tr>\n",
       "      <th>4</th>\n",
       "      <td>city_holidays</td>\n",
       "      <td>2012-04-21</td>\n",
       "    </tr>\n",
       "  </tbody>\n",
       "</table>\n",
       "</div>"
      ],
      "text/plain": [
       "           event         ds\n",
       "0  city_holidays 2012-03-02\n",
       "1  city_holidays 2012-04-01\n",
       "2  city_holidays 2012-04-12\n",
       "3  city_holidays 2012-04-14\n",
       "4  city_holidays 2012-04-21"
      ]
     },
     "execution_count": 14,
     "metadata": {},
     "output_type": "execute_result"
    }
   ],
   "source": [
    "events = pd.DataFrame(\n",
    "    {\n",
    "        \"event\": \"city_holidays\",\n",
    "        \"ds\": df_holidays['date'],\n",
    "    }\n",
    ")\n",
    "events.head()"
   ]
  },
  {
   "cell_type": "markdown",
   "id": "db431de1",
   "metadata": {
    "slideshow": {
     "slide_type": "slide"
    }
   },
   "source": [
    "# Vamos treinar o modelo"
   ]
  },
  {
   "cell_type": "code",
   "execution_count": 15,
   "id": "8f1f9f21",
   "metadata": {
    "slideshow": {
     "slide_type": "subslide"
    }
   },
   "outputs": [],
   "source": [
    "model = model.add_events(\"city_holidays\")\n",
    "history_df = model.create_df_with_events(df_train, events)"
   ]
  },
  {
   "cell_type": "code",
   "execution_count": 16,
   "id": "fcb0232d",
   "metadata": {
    "slideshow": {
     "slide_type": "subslide"
    }
   },
   "outputs": [
    {
     "data": {
      "application/vnd.jupyter.widget-view+json": {
       "model_id": "e0dc267117ed46139058be8731cc6ec4",
       "version_major": 2,
       "version_minor": 0
      },
      "text/plain": [
       "Training: 0it [00:00, ?it/s]"
      ]
     },
     "metadata": {},
     "output_type": "display_data"
    },
    {
     "data": {
      "text/html": [
       "<div>\n",
       "<style scoped>\n",
       "    .dataframe tbody tr th:only-of-type {\n",
       "        vertical-align: middle;\n",
       "    }\n",
       "\n",
       "    .dataframe tbody tr th {\n",
       "        vertical-align: top;\n",
       "    }\n",
       "\n",
       "    .dataframe thead th {\n",
       "        text-align: right;\n",
       "    }\n",
       "</style>\n",
       "<table border=\"1\" class=\"dataframe\">\n",
       "  <thead>\n",
       "    <tr style=\"text-align: right;\">\n",
       "      <th></th>\n",
       "      <th>MAE</th>\n",
       "      <th>RMSE</th>\n",
       "      <th>Loss</th>\n",
       "      <th>RegLoss</th>\n",
       "      <th>epoch</th>\n",
       "    </tr>\n",
       "  </thead>\n",
       "  <tbody>\n",
       "    <tr>\n",
       "      <th>0</th>\n",
       "      <td>18001.67</td>\n",
       "      <td>21386.83</td>\n",
       "      <td>1.04</td>\n",
       "      <td>0.00</td>\n",
       "      <td>0</td>\n",
       "    </tr>\n",
       "    <tr>\n",
       "      <th>1</th>\n",
       "      <td>17533.34</td>\n",
       "      <td>20963.82</td>\n",
       "      <td>1.01</td>\n",
       "      <td>0.00</td>\n",
       "      <td>1</td>\n",
       "    </tr>\n",
       "    <tr>\n",
       "      <th>2</th>\n",
       "      <td>17013.28</td>\n",
       "      <td>20406.35</td>\n",
       "      <td>0.98</td>\n",
       "      <td>0.00</td>\n",
       "      <td>2</td>\n",
       "    </tr>\n",
       "    <tr>\n",
       "      <th>3</th>\n",
       "      <td>16468.94</td>\n",
       "      <td>19820.67</td>\n",
       "      <td>0.95</td>\n",
       "      <td>0.00</td>\n",
       "      <td>3</td>\n",
       "    </tr>\n",
       "    <tr>\n",
       "      <th>4</th>\n",
       "      <td>15603.91</td>\n",
       "      <td>18903.67</td>\n",
       "      <td>0.90</td>\n",
       "      <td>0.00</td>\n",
       "      <td>4</td>\n",
       "    </tr>\n",
       "    <tr>\n",
       "      <th>...</th>\n",
       "      <td>...</td>\n",
       "      <td>...</td>\n",
       "      <td>...</td>\n",
       "      <td>...</td>\n",
       "      <td>...</td>\n",
       "    </tr>\n",
       "    <tr>\n",
       "      <th>172</th>\n",
       "      <td>1107.77</td>\n",
       "      <td>1594.25</td>\n",
       "      <td>0.06</td>\n",
       "      <td>0.00</td>\n",
       "      <td>172</td>\n",
       "    </tr>\n",
       "    <tr>\n",
       "      <th>173</th>\n",
       "      <td>1110.79</td>\n",
       "      <td>1602.67</td>\n",
       "      <td>0.06</td>\n",
       "      <td>0.00</td>\n",
       "      <td>173</td>\n",
       "    </tr>\n",
       "    <tr>\n",
       "      <th>174</th>\n",
       "      <td>1115.87</td>\n",
       "      <td>1592.78</td>\n",
       "      <td>0.06</td>\n",
       "      <td>0.00</td>\n",
       "      <td>174</td>\n",
       "    </tr>\n",
       "    <tr>\n",
       "      <th>175</th>\n",
       "      <td>1111.76</td>\n",
       "      <td>1605.12</td>\n",
       "      <td>0.06</td>\n",
       "      <td>0.00</td>\n",
       "      <td>175</td>\n",
       "    </tr>\n",
       "    <tr>\n",
       "      <th>176</th>\n",
       "      <td>1128.36</td>\n",
       "      <td>1621.53</td>\n",
       "      <td>0.06</td>\n",
       "      <td>0.00</td>\n",
       "      <td>176</td>\n",
       "    </tr>\n",
       "  </tbody>\n",
       "</table>\n",
       "<p>177 rows × 5 columns</p>\n",
       "</div>"
      ],
      "text/plain": [
       "         MAE     RMSE  Loss  RegLoss  epoch\n",
       "0   18001.67 21386.83  1.04     0.00      0\n",
       "1   17533.34 20963.82  1.01     0.00      1\n",
       "2   17013.28 20406.35  0.98     0.00      2\n",
       "3   16468.94 19820.67  0.95     0.00      3\n",
       "4   15603.91 18903.67  0.90     0.00      4\n",
       "..       ...      ...   ...      ...    ...\n",
       "172  1107.77  1594.25  0.06     0.00    172\n",
       "173  1110.79  1602.67  0.06     0.00    173\n",
       "174  1115.87  1592.78  0.06     0.00    174\n",
       "175  1111.76  1605.12  0.06     0.00    175\n",
       "176  1128.36  1621.53  0.06     0.00    176\n",
       "\n",
       "[177 rows x 5 columns]"
      ]
     },
     "execution_count": 16,
     "metadata": {},
     "output_type": "execute_result"
    }
   ],
   "source": [
    "metrics_train = model.fit(history_df, freq=\"D\", progress=\"bar\")\n",
    "metrics_train"
   ]
  },
  {
   "cell_type": "markdown",
   "id": "be7ee21f",
   "metadata": {
    "slideshow": {
     "slide_type": "slide"
    }
   },
   "source": [
    "# Vamo validar o modelo"
   ]
  },
  {
   "cell_type": "code",
   "execution_count": 17,
   "id": "c9d3b9c0",
   "metadata": {
    "slideshow": {
     "slide_type": "subslide"
    }
   },
   "outputs": [
    {
     "data": {
      "application/vnd.jupyter.widget-view+json": {
       "model_id": "bcf3fda7cdca4a48bc2aeacd27c09976",
       "version_major": 2,
       "version_minor": 0
      },
      "text/plain": [
       "Predicting: 43it [00:00, ?it/s]"
      ]
     },
     "metadata": {},
     "output_type": "display_data"
    },
    {
     "data": {
      "application/vnd.jupyter.widget-view+json": {
       "model_id": "dda1869ff1d246fb8914591bfd967137",
       "version_major": 2,
       "version_minor": 0
      },
      "text/plain": [
       "FigureWidgetResampler({\n",
       "    'data': [{'fill': 'none',\n",
       "              'line': {'color': 'rgba(45, 146, 255, 1.0)', 'width': 2},\n",
       "              'mode': 'lines',\n",
       "              'name': 'yhat1',\n",
       "              'type': 'scatter',\n",
       "              'uid': '5814ba0e-c677-4583-b6d0-312d7240f63f',\n",
       "              'x': array([datetime.datetime(2016, 9, 13, 0, 0),\n",
       "                          datetime.datetime(2016, 9, 14, 0, 0),\n",
       "                          datetime.datetime(2016, 9, 15, 0, 0), ...,\n",
       "                          datetime.datetime(2017, 8, 13, 0, 0),\n",
       "                          datetime.datetime(2017, 8, 14, 0, 0),\n",
       "                          datetime.datetime(2017, 8, 15, 0, 0)], dtype=object),\n",
       "              'y': array([10737.8203125 , 12991.78027344, 10295.72363281, ...,  5180.73388672,\n",
       "                          10187.18164062,  9873.97851562])},\n",
       "             {'marker': {'color': 'black', 'size': 4},\n",
       "              'mode': 'markers',\n",
       "              'name': 'Actual',\n",
       "              'type': 'scatter',\n",
       "              'uid': '78b50603-1247-40cd-8458-2d8c5de9814a',\n",
       "              'x': array([datetime.datetime(2016, 9, 13, 0, 0),\n",
       "                          datetime.datetime(2016, 9, 14, 0, 0),\n",
       "                          datetime.datetime(2016, 9, 15, 0, 0), ...,\n",
       "                          datetime.datetime(2017, 8, 13, 0, 0),\n",
       "                          datetime.datetime(2017, 8, 14, 0, 0),\n",
       "                          datetime.datetime(2017, 8, 15, 0, 0)], dtype=object),\n",
       "              'y': array([ 9904.759   , 12078.072   ,  9122.126   , ...,  3902.782   ,\n",
       "                          10433.314   ,  9823.551018])}],\n",
       "    'layout': {'autosize': True,\n",
       "               'font': {'size': 10},\n",
       "               'height': 420,\n",
       "               'hovermode': 'x unified',\n",
       "               'margin': {'b': 0, 'l': 0, 'pad': 0, 'r': 10, 't': 10},\n",
       "               'showlegend': True,\n",
       "               'template': '...',\n",
       "               'title': {'font': {'size': 12}},\n",
       "               'width': 700,\n",
       "               'xaxis': {'linewidth': 1.5,\n",
       "                         'mirror': True,\n",
       "                         'rangeselector': {'buttons': [{'count': 7, 'label': '1w', 'step': 'day', 'stepmode': 'backward'},\n",
       "                                                       {'count': 1,\n",
       "                                                        'label': '1m',\n",
       "                                                        'step': 'month',\n",
       "                                                        'stepmode': 'backward'},\n",
       "                                                       {'count': 6,\n",
       "                                                        'label': '6m',\n",
       "                                                        'step': 'month',\n",
       "                                                        'stepmode': 'backward'},\n",
       "                                                       {'count': 1, 'label': '1y', 'step': 'year', 'stepmode': 'backward'},\n",
       "                                                       {'step': 'all'}]},\n",
       "                         'rangeslider': {'visible': True},\n",
       "                         'showline': True,\n",
       "                         'title': {'text': 'ds'},\n",
       "                         'type': 'date'},\n",
       "               'yaxis': {'linewidth': 1.5, 'mirror': True, 'showline': True, 'title': {'text': 'y'}}}\n",
       "})"
      ]
     },
     "execution_count": 17,
     "metadata": {},
     "output_type": "execute_result"
    }
   ],
   "source": [
    "history_df_val = model.create_df_with_events(df_val, events)\n",
    "forecast = model.predict(history_df_val)\n",
    "model.plot(forecast)"
   ]
  },
  {
   "cell_type": "code",
   "execution_count": null,
   "id": "7de7834d",
   "metadata": {},
   "outputs": [],
   "source": []
  }
 ],
 "metadata": {
  "celltoolbar": "Slideshow",
  "kernelspec": {
   "display_name": "Python 3 (ipykernel)",
   "language": "python",
   "name": "python3"
  },
  "language_info": {
   "codemirror_mode": {
    "name": "ipython",
    "version": 3
   },
   "file_extension": ".py",
   "mimetype": "text/x-python",
   "name": "python",
   "nbconvert_exporter": "python",
   "pygments_lexer": "ipython3",
   "version": "3.10.4"
  }
 },
 "nbformat": 4,
 "nbformat_minor": 5
}
